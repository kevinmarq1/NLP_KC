{
  "nbformat": 4,
  "nbformat_minor": 0,
  "metadata": {
    "colab": {
      "provenance": []
    },
    "kernelspec": {
      "name": "python3",
      "display_name": "Python 3"
    },
    "language_info": {
      "name": "python"
    }
  },
  "cells": [
    {
      "cell_type": "markdown",
      "source": [
        "📘  — 0. Setup inicial\n",
        "En esta sección realizaremos la configuración básica del entorno de trabajo. Esto incluye:\n",
        "\n",
        "Intalaciones de herramientas\n",
        "\n",
        "Importación de todas las dependencias y utilidades\n",
        "\n",
        "Carga y descompresion del dataset desde la ruta del drive, en esta parte se verifica que si esta descomprimido anteriormente, de ser asi pregunta si reemplazamos todo o si usamos el que ya esta."
      ],
      "metadata": {
        "id": "RBHZ4_4fEDr4"
      }
    },
    {
      "cell_type": "code",
      "source": [
        "\n",
        "\n",
        "# 📦 Instalación\n",
        "!pip install -q nltk scikit-learn matplotlib seaborn tqdm\n",
        "!pip install num2words\n",
        "# 📚 Importaciones generales\n",
        "import os\n",
        "import zipfile\n",
        "import gzip\n",
        "import shutil\n",
        "from google.colab import drive\n",
        "import pandas as pd\n",
        "import numpy as np\n",
        "import matplotlib.pyplot as plt\n",
        "import seaborn as sns\n",
        "from sklearn.model_selection import train_test_split\n",
        "import re\n",
        "import os\n",
        "import num2words\n",
        "import nltk\n",
        "from nltk.corpus import stopwords\n",
        "from nltk.tokenize import word_tokenize\n",
        "nltk.data.path.append('/usr/local/nltk_data')\n",
        "nltk.download('punkt_tab')\n",
        "nltk.download('stopwords')\n",
        "\n",
        "\n",
        "# 📂 Paso 1: Montar Google Drive\n",
        "drive.mount('/content/drive')\n",
        "\n",
        "# 📍 Ruta al archivo en tu Drive\n",
        "ruta_origen = '/content/drive/MyDrive/NLP/reviews_Books_5.json.gz'\n",
        "\n",
        "# 📍 Nombre del archivo de destino ya descomprimido\n",
        "ruta_destino = '/content/Books_5.json'\n",
        "\n",
        "# ✅ Paso 2: Verificar si ya existe el archivo descomprimido\n",
        "if os.path.exists(ruta_destino):\n",
        "    print(f\"✅ El archivo ya está descomprimido en: {ruta_destino}\")\n",
        "    reemplazar = input(\"¿Deseas reemplazarlo? (s/n): \").strip().lower()\n",
        "    if reemplazar == 's':\n",
        "        os.remove(ruta_destino)\n",
        "        print(\"🧹 Archivo anterior eliminado. Descomprimiendo nuevamente...\")\n",
        "    else:\n",
        "        print(\"⏩ Usaremos el archivo existente. Continúa con el análisis.\")\n",
        "else:\n",
        "    print(\"📦 Descomprimiendo archivo...\")\n",
        "\n",
        "# 🗜️ Paso 3: Descomprimir si no existe o se quiere reemplazar\n",
        "if not os.path.exists(ruta_destino):\n",
        "    with gzip.open(ruta_origen, 'rb') as f_in:\n",
        "        with open(ruta_destino, 'wb') as f_out:\n",
        "            shutil.copyfileobj(f_in, f_out)\n",
        "    print(f\"✅ Archivo descomprimido exitosamente en: {ruta_destino}\")\n"
      ],
      "metadata": {
        "id": "NtQIiBKqjrVv",
        "colab": {
          "base_uri": "https://localhost:8080/"
        },
        "outputId": "90a4c0b1-20cd-40d2-bcd3-da0224e5e82e"
      },
      "execution_count": 1,
      "outputs": [
        {
          "output_type": "stream",
          "name": "stdout",
          "text": [
            "Collecting num2words\n",
            "  Downloading num2words-0.5.14-py3-none-any.whl.metadata (13 kB)\n",
            "Collecting docopt>=0.6.2 (from num2words)\n",
            "  Downloading docopt-0.6.2.tar.gz (25 kB)\n",
            "  Preparing metadata (setup.py) ... \u001b[?25l\u001b[?25hdone\n",
            "Downloading num2words-0.5.14-py3-none-any.whl (163 kB)\n",
            "\u001b[2K   \u001b[90m━━━━━━━━━━━━━━━━━━━━━━━━━━━━━━━━━━━━━━━━\u001b[0m \u001b[32m163.5/163.5 kB\u001b[0m \u001b[31m8.5 MB/s\u001b[0m eta \u001b[36m0:00:00\u001b[0m\n",
            "\u001b[?25hBuilding wheels for collected packages: docopt\n",
            "  Building wheel for docopt (setup.py) ... \u001b[?25l\u001b[?25hdone\n",
            "  Created wheel for docopt: filename=docopt-0.6.2-py2.py3-none-any.whl size=13706 sha256=2150f645cac58a3d5990c8cb2e6e40c4fb4f060e93b9e533b5d0b58ff3974f3a\n",
            "  Stored in directory: /root/.cache/pip/wheels/1a/b0/8c/4b75c4116c31f83c8f9f047231251e13cc74481cca4a78a9ce\n",
            "Successfully built docopt\n",
            "Installing collected packages: docopt, num2words\n",
            "Successfully installed docopt-0.6.2 num2words-0.5.14\n"
          ]
        },
        {
          "output_type": "stream",
          "name": "stderr",
          "text": [
            "[nltk_data] Downloading package punkt_tab to /root/nltk_data...\n",
            "[nltk_data]   Unzipping tokenizers/punkt_tab.zip.\n",
            "[nltk_data] Downloading package stopwords to /root/nltk_data...\n",
            "[nltk_data]   Unzipping corpora/stopwords.zip.\n"
          ]
        },
        {
          "output_type": "stream",
          "name": "stdout",
          "text": [
            "Mounted at /content/drive\n",
            "📦 Descomprimiendo archivo...\n",
            "✅ Archivo descomprimido exitosamente en: /content/Books_5.json\n"
          ]
        }
      ]
    },
    {
      "cell_type": "markdown",
      "source": [
        "📘 1. Preparación del Dataset\n",
        "En esta sección hemos preparado el dataset base que usaremos para la práctica final de NLP.\n",
        "\n",
        "El dataset original proviene de Amazon Reviews (Books), un archivo JSON con más de 8 millones de reseñas. Debido a su tamaño y para facilitar el entrenamiento, hemos aplicado los siguientes pasos:\n",
        "\n",
        "📥 Carga parcial del dataset completo desde el archivo Books_5.json.gz.\n",
        "\n",
        "🧼 Filtrado de reseñas que contienen texto (reviewText) y puntuación (overall).\n",
        "\n",
        "🎯 Conversión de puntuaciones a etiquetas de sentimiento:\n",
        "\n",
        "Puntuaciones 1 y 2 → sentimiento negativo (0)\n",
        "\n",
        "Puntuaciones 4 y 5 → sentimiento positivo (1)\n",
        "\n",
        "Las puntuaciones 3 se excluyen por ser neutras.\n",
        "\n",
        "⚖️ Balanceo del dataset para obtener el mismo número de muestras por clase:\n",
        "\n",
        "3000 reseñas positivas\n",
        "\n",
        "3000 reseñas negativas\n",
        "\n",
        "Con este subset balanceado ya podemos avanzar al preprocesamiento y modelado sin problemas de desbalance de clases."
      ],
      "metadata": {
        "id": "ElquGp-15MSJ"
      }
    },
    {
      "cell_type": "code",
      "source": [
        "\n",
        "# Ruta del archivo descomprimido en tu Drive\n",
        "ruta_json = '/content/Books_5.json'\n",
        "\n",
        "# Contenedores para reseñas positivas y negativas\n",
        "positivas, negativas = [], []\n",
        "\n",
        "# Procesamos por bloques para no cargar todo el archivo en RAM\n",
        "chunksize = 100_000\n",
        "\n",
        "# Contamos cuántos queremos de cada clase\n",
        "n_deseado = 3000\n",
        "\n",
        "with pd.read_json(ruta_json, lines=True, chunksize=chunksize) as reader:\n",
        "    for chunk in reader:\n",
        "        if 'reviewText' not in chunk.columns or 'overall' not in chunk.columns:\n",
        "            continue\n",
        "\n",
        "        # Filtramos solo columnas necesarias y eliminamos vacíos\n",
        "        chunk = chunk[['reviewText', 'overall']].dropna()\n",
        "\n",
        "        # Solo puntuaciones claras (positiva o negativa)\n",
        "        chunk = chunk[chunk['overall'].isin([1, 2, 4, 5])]\n",
        "\n",
        "        # Etiqueta binaria de sentimiento\n",
        "        chunk['sentiment'] = chunk['overall'].apply(lambda x: 1 if x >= 4 else 0)\n",
        "\n",
        "        # Separar\n",
        "        pos = chunk[chunk['sentiment'] == 1]\n",
        "        neg = chunk[chunk['sentiment'] == 0]\n",
        "\n",
        "        # Añadir hasta llegar al total deseado\n",
        "        if len(positivas) < n_deseado:\n",
        "            positivas.extend(pos.to_dict(orient=\"records\")[:n_deseado - len(positivas)])\n",
        "        if len(negativas) < n_deseado:\n",
        "            negativas.extend(neg.to_dict(orient=\"records\")[:n_deseado - len(negativas)])\n",
        "\n",
        "        # Rompemos si ya tenemos todo\n",
        "        if len(positivas) >= n_deseado and len(negativas) >= n_deseado:\n",
        "            break\n",
        "\n",
        "# Combinar y guardar el subset\n",
        "subset = pd.DataFrame(positivas + negativas)\n",
        "subset = subset.sample(frac=1, random_state=42).reset_index(drop=True)\n",
        "\n",
        "# Guardamos en formato comprimido en Colab\n",
        "subset.to_json(\"/content/books_subset_real.json.gz\", orient=\"records\", lines=True, compression=\"gzip\")\n",
        "\n",
        "print(\"✅ Subset listo:\")\n",
        "print(subset['sentiment'].value_counts())\n",
        "subset.head()\n"
      ],
      "metadata": {
        "id": "vUO0IuYVk5jD",
        "colab": {
          "base_uri": "https://localhost:8080/",
          "height": 397
        },
        "outputId": "fb3be3b5-492e-4ae2-e2af-938a4002999e"
      },
      "execution_count": 2,
      "outputs": [
        {
          "output_type": "stream",
          "name": "stderr",
          "text": [
            "/tmp/ipython-input-2-2420733524.py:25: SettingWithCopyWarning: \n",
            "A value is trying to be set on a copy of a slice from a DataFrame.\n",
            "Try using .loc[row_indexer,col_indexer] = value instead\n",
            "\n",
            "See the caveats in the documentation: https://pandas.pydata.org/pandas-docs/stable/user_guide/indexing.html#returning-a-view-versus-a-copy\n",
            "  chunk['sentiment'] = chunk['overall'].apply(lambda x: 1 if x >= 4 else 0)\n"
          ]
        },
        {
          "output_type": "stream",
          "name": "stdout",
          "text": [
            "✅ Subset listo:\n",
            "sentiment\n",
            "1    3000\n",
            "0    3000\n",
            "Name: count, dtype: int64\n"
          ]
        },
        {
          "output_type": "execute_result",
          "data": {
            "text/plain": [
              "                                          reviewText  overall  sentiment\n",
              "0  I'd never read anything by Sarah Gruen before ...        5          1\n",
              "1  I have been reading through this book and whil...        1          0\n",
              "2  This is a wonderful looking book, I have not h...        5          1\n",
              "3  Was an awsome book , best I've read would sugg...        5          1\n",
              "4  It's a rare day that I can't finish a book. I ...        2          0"
            ],
            "text/html": [
              "\n",
              "  <div id=\"df-e066771a-320d-4cc0-8689-f88bbfd184a1\" class=\"colab-df-container\">\n",
              "    <div>\n",
              "<style scoped>\n",
              "    .dataframe tbody tr th:only-of-type {\n",
              "        vertical-align: middle;\n",
              "    }\n",
              "\n",
              "    .dataframe tbody tr th {\n",
              "        vertical-align: top;\n",
              "    }\n",
              "\n",
              "    .dataframe thead th {\n",
              "        text-align: right;\n",
              "    }\n",
              "</style>\n",
              "<table border=\"1\" class=\"dataframe\">\n",
              "  <thead>\n",
              "    <tr style=\"text-align: right;\">\n",
              "      <th></th>\n",
              "      <th>reviewText</th>\n",
              "      <th>overall</th>\n",
              "      <th>sentiment</th>\n",
              "    </tr>\n",
              "  </thead>\n",
              "  <tbody>\n",
              "    <tr>\n",
              "      <th>0</th>\n",
              "      <td>I'd never read anything by Sarah Gruen before ...</td>\n",
              "      <td>5</td>\n",
              "      <td>1</td>\n",
              "    </tr>\n",
              "    <tr>\n",
              "      <th>1</th>\n",
              "      <td>I have been reading through this book and whil...</td>\n",
              "      <td>1</td>\n",
              "      <td>0</td>\n",
              "    </tr>\n",
              "    <tr>\n",
              "      <th>2</th>\n",
              "      <td>This is a wonderful looking book, I have not h...</td>\n",
              "      <td>5</td>\n",
              "      <td>1</td>\n",
              "    </tr>\n",
              "    <tr>\n",
              "      <th>3</th>\n",
              "      <td>Was an awsome book , best I've read would sugg...</td>\n",
              "      <td>5</td>\n",
              "      <td>1</td>\n",
              "    </tr>\n",
              "    <tr>\n",
              "      <th>4</th>\n",
              "      <td>It's a rare day that I can't finish a book. I ...</td>\n",
              "      <td>2</td>\n",
              "      <td>0</td>\n",
              "    </tr>\n",
              "  </tbody>\n",
              "</table>\n",
              "</div>\n",
              "    <div class=\"colab-df-buttons\">\n",
              "\n",
              "  <div class=\"colab-df-container\">\n",
              "    <button class=\"colab-df-convert\" onclick=\"convertToInteractive('df-e066771a-320d-4cc0-8689-f88bbfd184a1')\"\n",
              "            title=\"Convert this dataframe to an interactive table.\"\n",
              "            style=\"display:none;\">\n",
              "\n",
              "  <svg xmlns=\"http://www.w3.org/2000/svg\" height=\"24px\" viewBox=\"0 -960 960 960\">\n",
              "    <path d=\"M120-120v-720h720v720H120Zm60-500h600v-160H180v160Zm220 220h160v-160H400v160Zm0 220h160v-160H400v160ZM180-400h160v-160H180v160Zm440 0h160v-160H620v160ZM180-180h160v-160H180v160Zm440 0h160v-160H620v160Z\"/>\n",
              "  </svg>\n",
              "    </button>\n",
              "\n",
              "  <style>\n",
              "    .colab-df-container {\n",
              "      display:flex;\n",
              "      gap: 12px;\n",
              "    }\n",
              "\n",
              "    .colab-df-convert {\n",
              "      background-color: #E8F0FE;\n",
              "      border: none;\n",
              "      border-radius: 50%;\n",
              "      cursor: pointer;\n",
              "      display: none;\n",
              "      fill: #1967D2;\n",
              "      height: 32px;\n",
              "      padding: 0 0 0 0;\n",
              "      width: 32px;\n",
              "    }\n",
              "\n",
              "    .colab-df-convert:hover {\n",
              "      background-color: #E2EBFA;\n",
              "      box-shadow: 0px 1px 2px rgba(60, 64, 67, 0.3), 0px 1px 3px 1px rgba(60, 64, 67, 0.15);\n",
              "      fill: #174EA6;\n",
              "    }\n",
              "\n",
              "    .colab-df-buttons div {\n",
              "      margin-bottom: 4px;\n",
              "    }\n",
              "\n",
              "    [theme=dark] .colab-df-convert {\n",
              "      background-color: #3B4455;\n",
              "      fill: #D2E3FC;\n",
              "    }\n",
              "\n",
              "    [theme=dark] .colab-df-convert:hover {\n",
              "      background-color: #434B5C;\n",
              "      box-shadow: 0px 1px 3px 1px rgba(0, 0, 0, 0.15);\n",
              "      filter: drop-shadow(0px 1px 2px rgba(0, 0, 0, 0.3));\n",
              "      fill: #FFFFFF;\n",
              "    }\n",
              "  </style>\n",
              "\n",
              "    <script>\n",
              "      const buttonEl =\n",
              "        document.querySelector('#df-e066771a-320d-4cc0-8689-f88bbfd184a1 button.colab-df-convert');\n",
              "      buttonEl.style.display =\n",
              "        google.colab.kernel.accessAllowed ? 'block' : 'none';\n",
              "\n",
              "      async function convertToInteractive(key) {\n",
              "        const element = document.querySelector('#df-e066771a-320d-4cc0-8689-f88bbfd184a1');\n",
              "        const dataTable =\n",
              "          await google.colab.kernel.invokeFunction('convertToInteractive',\n",
              "                                                    [key], {});\n",
              "        if (!dataTable) return;\n",
              "\n",
              "        const docLinkHtml = 'Like what you see? Visit the ' +\n",
              "          '<a target=\"_blank\" href=https://colab.research.google.com/notebooks/data_table.ipynb>data table notebook</a>'\n",
              "          + ' to learn more about interactive tables.';\n",
              "        element.innerHTML = '';\n",
              "        dataTable['output_type'] = 'display_data';\n",
              "        await google.colab.output.renderOutput(dataTable, element);\n",
              "        const docLink = document.createElement('div');\n",
              "        docLink.innerHTML = docLinkHtml;\n",
              "        element.appendChild(docLink);\n",
              "      }\n",
              "    </script>\n",
              "  </div>\n",
              "\n",
              "\n",
              "    <div id=\"df-75df220c-95c8-4bbb-836a-309444bfb6be\">\n",
              "      <button class=\"colab-df-quickchart\" onclick=\"quickchart('df-75df220c-95c8-4bbb-836a-309444bfb6be')\"\n",
              "                title=\"Suggest charts\"\n",
              "                style=\"display:none;\">\n",
              "\n",
              "<svg xmlns=\"http://www.w3.org/2000/svg\" height=\"24px\"viewBox=\"0 0 24 24\"\n",
              "     width=\"24px\">\n",
              "    <g>\n",
              "        <path d=\"M19 3H5c-1.1 0-2 .9-2 2v14c0 1.1.9 2 2 2h14c1.1 0 2-.9 2-2V5c0-1.1-.9-2-2-2zM9 17H7v-7h2v7zm4 0h-2V7h2v10zm4 0h-2v-4h2v4z\"/>\n",
              "    </g>\n",
              "</svg>\n",
              "      </button>\n",
              "\n",
              "<style>\n",
              "  .colab-df-quickchart {\n",
              "      --bg-color: #E8F0FE;\n",
              "      --fill-color: #1967D2;\n",
              "      --hover-bg-color: #E2EBFA;\n",
              "      --hover-fill-color: #174EA6;\n",
              "      --disabled-fill-color: #AAA;\n",
              "      --disabled-bg-color: #DDD;\n",
              "  }\n",
              "\n",
              "  [theme=dark] .colab-df-quickchart {\n",
              "      --bg-color: #3B4455;\n",
              "      --fill-color: #D2E3FC;\n",
              "      --hover-bg-color: #434B5C;\n",
              "      --hover-fill-color: #FFFFFF;\n",
              "      --disabled-bg-color: #3B4455;\n",
              "      --disabled-fill-color: #666;\n",
              "  }\n",
              "\n",
              "  .colab-df-quickchart {\n",
              "    background-color: var(--bg-color);\n",
              "    border: none;\n",
              "    border-radius: 50%;\n",
              "    cursor: pointer;\n",
              "    display: none;\n",
              "    fill: var(--fill-color);\n",
              "    height: 32px;\n",
              "    padding: 0;\n",
              "    width: 32px;\n",
              "  }\n",
              "\n",
              "  .colab-df-quickchart:hover {\n",
              "    background-color: var(--hover-bg-color);\n",
              "    box-shadow: 0 1px 2px rgba(60, 64, 67, 0.3), 0 1px 3px 1px rgba(60, 64, 67, 0.15);\n",
              "    fill: var(--button-hover-fill-color);\n",
              "  }\n",
              "\n",
              "  .colab-df-quickchart-complete:disabled,\n",
              "  .colab-df-quickchart-complete:disabled:hover {\n",
              "    background-color: var(--disabled-bg-color);\n",
              "    fill: var(--disabled-fill-color);\n",
              "    box-shadow: none;\n",
              "  }\n",
              "\n",
              "  .colab-df-spinner {\n",
              "    border: 2px solid var(--fill-color);\n",
              "    border-color: transparent;\n",
              "    border-bottom-color: var(--fill-color);\n",
              "    animation:\n",
              "      spin 1s steps(1) infinite;\n",
              "  }\n",
              "\n",
              "  @keyframes spin {\n",
              "    0% {\n",
              "      border-color: transparent;\n",
              "      border-bottom-color: var(--fill-color);\n",
              "      border-left-color: var(--fill-color);\n",
              "    }\n",
              "    20% {\n",
              "      border-color: transparent;\n",
              "      border-left-color: var(--fill-color);\n",
              "      border-top-color: var(--fill-color);\n",
              "    }\n",
              "    30% {\n",
              "      border-color: transparent;\n",
              "      border-left-color: var(--fill-color);\n",
              "      border-top-color: var(--fill-color);\n",
              "      border-right-color: var(--fill-color);\n",
              "    }\n",
              "    40% {\n",
              "      border-color: transparent;\n",
              "      border-right-color: var(--fill-color);\n",
              "      border-top-color: var(--fill-color);\n",
              "    }\n",
              "    60% {\n",
              "      border-color: transparent;\n",
              "      border-right-color: var(--fill-color);\n",
              "    }\n",
              "    80% {\n",
              "      border-color: transparent;\n",
              "      border-right-color: var(--fill-color);\n",
              "      border-bottom-color: var(--fill-color);\n",
              "    }\n",
              "    90% {\n",
              "      border-color: transparent;\n",
              "      border-bottom-color: var(--fill-color);\n",
              "    }\n",
              "  }\n",
              "</style>\n",
              "\n",
              "      <script>\n",
              "        async function quickchart(key) {\n",
              "          const quickchartButtonEl =\n",
              "            document.querySelector('#' + key + ' button');\n",
              "          quickchartButtonEl.disabled = true;  // To prevent multiple clicks.\n",
              "          quickchartButtonEl.classList.add('colab-df-spinner');\n",
              "          try {\n",
              "            const charts = await google.colab.kernel.invokeFunction(\n",
              "                'suggestCharts', [key], {});\n",
              "          } catch (error) {\n",
              "            console.error('Error during call to suggestCharts:', error);\n",
              "          }\n",
              "          quickchartButtonEl.classList.remove('colab-df-spinner');\n",
              "          quickchartButtonEl.classList.add('colab-df-quickchart-complete');\n",
              "        }\n",
              "        (() => {\n",
              "          let quickchartButtonEl =\n",
              "            document.querySelector('#df-75df220c-95c8-4bbb-836a-309444bfb6be button');\n",
              "          quickchartButtonEl.style.display =\n",
              "            google.colab.kernel.accessAllowed ? 'block' : 'none';\n",
              "        })();\n",
              "      </script>\n",
              "    </div>\n",
              "\n",
              "    </div>\n",
              "  </div>\n"
            ],
            "application/vnd.google.colaboratory.intrinsic+json": {
              "type": "dataframe",
              "variable_name": "subset",
              "summary": "{\n  \"name\": \"subset\",\n  \"rows\": 6000,\n  \"fields\": [\n    {\n      \"column\": \"reviewText\",\n      \"properties\": {\n        \"dtype\": \"string\",\n        \"num_unique_values\": 6000,\n        \"samples\": [\n          \"I loved the rich, descriptive language. The author does a great job of the writer's maxim \\\"show, don't tell,\\\" revealing bits and pieces to fill in the details and background of characters over time. The main character, Jacob, is very funny, especially when he's a 93-year old with attitude. I felt so sorry for old Jacob after a while. I really wanted to get back to young Jacob and hoped for a happy ending. Without giving anything away, I was incensed at one point about what happened to old Jacob. I hated that part so much that I questioned all the favorable reviews. However, I must say that I'm satisfied with the ending and glad that I read the book. One bonus of the fact that it's a best seller: I was able to easily check this out from my local library after a few week's wait. No problem, I wasn't in a hurry.Regarding adult themes (beware potential SPOILERS below):I'm definitely NOT a fan of inserting graphic sex or nudity or swearing into a story for no reason. I prefer nice clean stories and think you really don't need to be explicit. However, I think the scenes in this story helped set the environment. They were typically treated with such humor that I laughed a lot and didn't mind them. First, young virgin Jacob guards a stripper while she performs. The striptease and gigantic breasts are described in vivid detail. Jacob's horror, amazement, and embarassment, having never seen a naked woman before shows he's really not in Kansas any more. That's the most explicit scene and it's really hilarious. There are a few other sexual situations, often mixed with drinking. The actual love making was left to the imagination. There's a little swearing. I found the beating of animals to be the most objectionable; Jacob, the animal lover, spends a lot of time trying to figure out how to help.\",\n          \"Uninspired. Thin, thin plot. Predictable from 1st page to last. Pretty much a waste of time to read. Unless perhaps the author was writing for 10 yr old girls\",\n          \"I just spent the last fifteen minutes looking at the reviews ~~ and it's very interesting to read all the comments as well. There are so many varied responses to this book that the author must be in heaven to get so many responses to this book.I first heard of this book last spring when a fellow Amazon reviewer told me that I \\\"just had to read it.\\\" I wasn't that inclined since the price was not favorable and the waiting list at the library was too long. However, in my book club, it was the November book to discuss. So when I saw it on the table at the local bookstore for buy three, get one free, I snapped it up. It is not a decision that I have regretted. It is one of the better entertaining books of fiction that I have read this year, if not one of the best. And I read a lot.There are some disaparities in this book as with others, but I think people tend to forget that a work of fiction is simply that, a work of fiction. Not everything's going to \\\"mesh together\\\" as in real life. That's why you read nonfiction if you like everything in its proper place and order. This book is simply a fanastic tale of a man facing the end of his life in a dreary nursing home setting, and reliving some of the best moments of his life. A young orphan who happened to jump the train to get away from the tragedy that was his life happened to be on a circus train. He didn't plan to run away to the circus, he just stumbled on the circus train while grieving. And stayed. Fell in love with the most beautiful girl in the world who is happened to be married to the ringmaster. What a story!This novel alternates between Jacob's present and past ~~ he relives the first three months of being in Benzini Brothers Most Spectacular Show on Earth. Jacob is 90 or 93 (he can't remember which) and seventy years prior, he was the Benzini Brothers' vet, taking care of the underfed animals of that show. He worked with all kinds of people and animals. It was an exciting life ~~ how many people do you know that lived a life like that? Marlena is the wife of the psychotic ringmaster who alternately abused his wife, his animals and co-workers. Rosie is the elephant bull that Uncle Al, the owner of the circus, bought for a song, hoping that Rosie will be the biggest draw to his circus.The descriptions in this novel are lavish. One can see the sawdust in the air as the big top was put up. One can see the cotton candy being spun. One can feel the humiliation of an old man having to take a shower under the watchful eye of the nurse in the nursing home. One can feel his love for the beautiful show girl. And all of this is tied together beautifully, both past and present. It is a glimpse into a life of a man.Why didn't I give it a five star? Simply because I felt that the endings to both stories were rushed. I did not expect it to have such happy endings since the stories were more gritty and realistic. But hey, this is a work of fiction, right?11-4-07\"\n        ],\n        \"semantic_type\": \"\",\n        \"description\": \"\"\n      }\n    },\n    {\n      \"column\": \"overall\",\n      \"properties\": {\n        \"dtype\": \"number\",\n        \"std\": 1,\n        \"min\": 1,\n        \"max\": 5,\n        \"num_unique_values\": 4,\n        \"samples\": [\n          1,\n          4,\n          5\n        ],\n        \"semantic_type\": \"\",\n        \"description\": \"\"\n      }\n    },\n    {\n      \"column\": \"sentiment\",\n      \"properties\": {\n        \"dtype\": \"number\",\n        \"std\": 0,\n        \"min\": 0,\n        \"max\": 1,\n        \"num_unique_values\": 2,\n        \"samples\": [\n          0,\n          1\n        ],\n        \"semantic_type\": \"\",\n        \"description\": \"\"\n      }\n    }\n  ]\n}"
            }
          },
          "metadata": {},
          "execution_count": 2
        }
      ]
    },
    {
      "cell_type": "markdown",
      "source": [
        "📘 2. Preprocesamiento del texto)\n",
        "En esta sección aplicamos un preprocesamiento exhaustivo al texto de las reseñas. El objetivo es dejar el texto en una forma más limpia y representativa para el modelo. Las operaciones realizadas son:\n",
        "\n",
        "Convertir todo a minúsculas.\n",
        "\n",
        "Convertir los números a palabras (por ejemplo, \"3\" → \"three\").\n",
        "\n",
        "Eliminar caracteres no alfabéticos.\n",
        "\n",
        "Tokenizar el texto.\n",
        "\n",
        "Eliminar stopwords.\n",
        "\n",
        "Reunir el texto limpio para su uso posterior.\n",
        "\n",
        "Este preprocesamiento ayuda a reducir el ruido y mejora la capacidad del modelo para extraer patrones útiles. A continuación, procesamos los textos del dataset con esta función personalizada."
      ],
      "metadata": {
        "id": "0cxWy-B6FJ-l"
      }
    },
    {
      "cell_type": "code",
      "source": [
        "\n",
        "from num2words import num2words\n",
        "\n",
        "# Definimos el idioma\n",
        "stop_words = set(stopwords.words('english'))\n",
        "\n",
        "# Función de limpieza de texto\n",
        "def limpiar_texto(texto):\n",
        "    # Convertimos a minúsculas\n",
        "    texto = texto.lower()\n",
        "\n",
        "    # Convertimos los números a palabras\n",
        "    texto = re.sub(r'\\b\\d+\\b', lambda x: num2words(x.group()), texto)\n",
        "\n",
        "    # Eliminamos cualquier carácter que no sea letra ni espacio\n",
        "    texto = re.sub(r'[^a-z\\s]', '', texto)\n",
        "\n",
        "    # Tokenizamos el texto\n",
        "    tokens = word_tokenize(texto)\n",
        "\n",
        "    # Eliminamos stopwords\n",
        "    tokens = [palabra for palabra in tokens if palabra not in stop_words]\n",
        "\n",
        "    # Unimos los tokens en un solo string\n",
        "    return ' '.join(tokens)\n",
        "\n",
        "# 📥 Carga del dataset balanceado generado previamente\n",
        "ruta_dataset = '/content/books_subset_real.json.gz'\n",
        "df = pd.read_json(ruta_dataset, lines=True)\n",
        "\n",
        "# Aplicamos el preprocesamiento\n",
        "df['clean_text'] = df['reviewText'].apply(limpiar_texto)\n",
        "\n",
        "# Mostramos los primeros ejemplos procesados\n",
        "for i in range(3):\n",
        "    print(f\"📄 Original {i+1}:\\n{df['reviewText'].iloc[i]}\\n\")\n",
        "    print(f\"✅ Limpio {i+1}:\\n{df['clean_text'].iloc[i]}\\n\")\n",
        "    print(\"-\" * 80)\n"
      ],
      "metadata": {
        "id": "fL0x-eMWGETj",
        "colab": {
          "base_uri": "https://localhost:8080/"
        },
        "outputId": "bd37fbfd-f8f1-4ea7-b281-c69f84ca2581"
      },
      "execution_count": 3,
      "outputs": [
        {
          "output_type": "stream",
          "name": "stdout",
          "text": [
            "📄 Original 1:\n",
            "I'd never read anything by Sarah Gruen before and I'd heard a lot of hype about this book due to the release of the movie. I decided to hold off watching the film until I'd had a chance to see for myself how the book was.I'm so glad I waited.This book had me from it's opening pages all the way to the close. The descriptions of life in a traveling circus were gritty and made me feel as if I were really on that train, traveling with Jacob, Walter, and Camel. Ms. Gruen's character developments were also incredible, and as a writer myself, I found myself wishing I had one iota of her talent for bringing them to life so vividly.The story is well paced, with just hints from the elder Jacob as to how his life turned out. I liked the transition from old voice to young and felt as if I could \"see\" the character both ways.All in all, a fantastic read!Nephilim\n",
            "\n",
            "✅ Limpio 1:\n",
            "id never read anything sarah gruen id heard lot hype book due release movie decided hold watching film id chance see book wasim glad waitedthis book opening pages way close descriptions life traveling circus gritty made feel really train traveling jacob walter camel ms gruens character developments also incredible writer found wishing one iota talent bringing life vividlythe story well paced hints elder jacob life turned liked transition old voice young felt could see character waysall fantastic readnephilim\n",
            "\n",
            "--------------------------------------------------------------------------------\n",
            "📄 Original 2:\n",
            "I have been reading through this book and while it says some true things, it seems very judgmental, especially in the section about games people play.  I also thought it was meant to be written by a Christian, but in the section on Rationalization, it says \"Choosing evil as evil is also a psychological impossibility, because the will can only choose the good\".  I believe that is entirely untrue.\n",
            "\n",
            "✅ Limpio 2:\n",
            "reading book says true things seems judgmental especially section games people play also thought meant written christian section rationalization says choosing evil evil also psychological impossibility choose good believe entirely untrue\n",
            "\n",
            "--------------------------------------------------------------------------------\n",
            "📄 Original 3:\n",
            "This is a wonderful looking book, I have not had a chance to start reading it, however the drawings alone are beyond great. The book arrived within three days of ordering, and the book is in great shape.\n",
            "\n",
            "✅ Limpio 3:\n",
            "wonderful looking book chance start reading however drawings alone beyond great book arrived within three days ordering book great shape\n",
            "\n",
            "--------------------------------------------------------------------------------\n"
          ]
        }
      ]
    },
    {
      "cell_type": "markdown",
      "source": [
        "a continuacion vamos a transformar el texto limpio en una representación numérica que un modelo de machine learning pueda entender. Para ello utilizaremos la técnica de TF-IDF (Term Frequency – Inverse Document Frequency). Esta técnica convierte cada reseña en un vector de características, donde cada dimensión representa una palabra del vocabulario, ponderada según su importancia en el corpus.\n",
        "\n",
        "Al final de este bloque, tendremos listas las matrices de entrada para entrenar nuestros modelos clásicos de aprendizaje automático."
      ],
      "metadata": {
        "id": "h5oiZw-_Kyqe"
      }
    },
    {
      "cell_type": "code",
      "source": [
        "from sklearn.feature_extraction.text import TfidfVectorizer\n",
        "\n",
        "# 🔧 Configuramos el vectorizador\n",
        "vectorizer = TfidfVectorizer(\n",
        "    max_features=5000,      # Limita el vocabulario a las 5000 palabras más frecuentes\n",
        "    stop_words='english',   # Eliminamos stopwords en inglés\n",
        "    ngram_range=(1, 2)      # Unigramas y bigramas\n",
        ")\n",
        "\n",
        "# 🧠 Transformamos los textos limpios a vectores TF-IDF\n",
        "X_tfidf = vectorizer.fit_transform(df['clean_text'])\n",
        "\n",
        "# 🎯 Guardamos también las etiquetas\n",
        "y = df['sentiment']\n",
        "\n",
        "# 🔍 Mostramos la forma de la matriz TF-IDF\n",
        "print(f\"✅ Matriz TF-IDF lista con forma: {X_tfidf.shape}\")\n"
      ],
      "metadata": {
        "colab": {
          "base_uri": "https://localhost:8080/"
        },
        "id": "kIcNX8fuK6rd",
        "outputId": "44d4c980-3cb6-489c-f241-584d1eeac3a1"
      },
      "execution_count": 4,
      "outputs": [
        {
          "output_type": "stream",
          "name": "stdout",
          "text": [
            "✅ Matriz TF-IDF lista con forma: (6000, 5000)\n"
          ]
        }
      ]
    },
    {
      "cell_type": "markdown",
      "source": [
        "hora que ya hemos transformado nuestros textos en vectores TF-IDF, el siguiente paso es dividir el dataset en tres partes:\n",
        "\n",
        "Entrenamiento (train): donde el modelo aprenderá patrones.\n",
        "\n",
        "Validación (val): usada para ajustar hiperparámetros y prevenir sobreajuste.\n",
        "\n",
        "Prueba (test): para medir el rendimiento final de forma objetiva.\n",
        "\n",
        "Esta separación asegura una evaluación honesta del modelo, manteniendo separados los datos con los que se entrena y aquellos con los que se evalúa.\n",
        "\n",
        "Usaremos un 80 % para entrenamiento, 10 % para validación y 10 % para prueba. Como los datos ya están balanceados, no es necesario aplicar estratificación adicional."
      ],
      "metadata": {
        "id": "iWVqoPytjCJ_"
      }
    },
    {
      "cell_type": "code",
      "source": [
        "\n",
        "\n",
        "# 🎯 Variables predictoras y objetivo\n",
        "X = X_tfidf\n",
        "y = df['sentiment']\n",
        "\n",
        "# 🔀 Dividimos primero en entrenamiento y conjunto temporal (val + test)\n",
        "X_train, X_temp, y_train, y_temp = train_test_split(X, y, test_size=0.2, random_state=42)\n",
        "\n",
        "# 🔀 Dividimos el conjunto temporal en validación y prueba\n",
        "X_val, X_test, y_val, y_test = train_test_split(X_temp, y_temp, test_size=0.5, random_state=42)\n",
        "\n",
        "# ✅ Mostramos tamaños\n",
        "print(f\"✅ Conjunto de entrenamiento: {X_train.shape}\")\n",
        "print(f\"✅ Conjunto de validación: {X_val.shape}\")\n",
        "print(f\"✅ Conjunto de prueba: {X_test.shape}\")\n"
      ],
      "metadata": {
        "colab": {
          "base_uri": "https://localhost:8080/"
        },
        "id": "gDhZw7nvjDke",
        "outputId": "d35be65f-e24b-4ecd-c43b-745f92e284c2"
      },
      "execution_count": 5,
      "outputs": [
        {
          "output_type": "stream",
          "name": "stdout",
          "text": [
            "✅ Conjunto de entrenamiento: (4800, 5000)\n",
            "✅ Conjunto de validación: (600, 5000)\n",
            "✅ Conjunto de prueba: (600, 5000)\n"
          ]
        }
      ]
    },
    {
      "cell_type": "markdown",
      "source": [
        "En esta sección entrenaremos un modelo clásico de aprendizaje automático para clasificar las reseñas en positivas o negativas.\n",
        "\n",
        "Empezaremos con un modelo de Regresión Logística, una técnica sencilla pero efectiva para tareas de clasificación binaria.\n",
        "\n",
        "Evaluaremos su rendimiento usando el conjunto de validación, observando métricas como exactitud (accuracy) y la matriz de confusión.\n",
        "\n",
        "Este modelo nos servirá como línea base para comparar luego con modelos más avanzados como redes neuronales o transformadores."
      ],
      "metadata": {
        "id": "m9eE8OS5jUzW"
      }
    },
    {
      "cell_type": "code",
      "source": [
        "from sklearn.linear_model import LogisticRegression\n",
        "from sklearn.metrics import accuracy_score, classification_report, confusion_matrix\n",
        "import seaborn as sns\n",
        "import matplotlib.pyplot as plt\n",
        "\n",
        "# 🧠 Entrenamos un modelo de regresión logística\n",
        "model = LogisticRegression(max_iter=1000)\n",
        "model.fit(X_train, y_train)\n",
        "\n",
        "# 🔍 Predecimos en el conjunto de validación\n",
        "y_pred = model.predict(X_val)\n",
        "\n",
        "# 📊 Evaluamos el rendimiento\n",
        "accuracy = accuracy_score(y_val, y_pred)\n",
        "print(f\"✅ Accuracy en validación: {accuracy:.4f}\\n\")\n",
        "\n",
        "# 📋 Reporte detallado\n",
        "print(\"📄 Reporte de clasificación:\\n\", classification_report(y_val, y_pred))\n",
        "\n",
        "# 🧩 Matriz de confusión\n",
        "plt.figure(figsize=(6, 4))\n",
        "sns.heatmap(confusion_matrix(y_val, y_pred), annot=True, fmt='d', cmap='Blues')\n",
        "plt.title(\"Matriz de Confusión en Validación\")\n",
        "plt.xlabel(\"Predicción\")\n",
        "plt.ylabel(\"Real\")\n",
        "plt.show()\n"
      ],
      "metadata": {
        "colab": {
          "base_uri": "https://localhost:8080/",
          "height": 618
        },
        "id": "DdE3ixn3ja3A",
        "outputId": "9bb290a3-f703-43b8-d219-bd51795facbf"
      },
      "execution_count": 6,
      "outputs": [
        {
          "output_type": "stream",
          "name": "stdout",
          "text": [
            "✅ Accuracy en validación: 0.9167\n",
            "\n",
            "📄 Reporte de clasificación:\n",
            "               precision    recall  f1-score   support\n",
            "\n",
            "           0       0.90      0.93      0.92       302\n",
            "           1       0.93      0.90      0.91       298\n",
            "\n",
            "    accuracy                           0.92       600\n",
            "   macro avg       0.92      0.92      0.92       600\n",
            "weighted avg       0.92      0.92      0.92       600\n",
            "\n"
          ]
        },
        {
          "output_type": "display_data",
          "data": {
            "text/plain": [
              "<Figure size 600x400 with 2 Axes>"
            ],
            "image/png": "[encoded data removed]"
          },
          "metadata": {}
        }
      ]
    },
    {
      "cell_type": "markdown",
      "source": [
        "En este paso vamos a cargar el modelo y el vectorizador previamente guardados con joblib, y los utilizaremos para hacer predicciones de sentimiento sobre frases nuevas escritas por nosotros. Estas frases deben pasar por el mismo preprocesamiento que aplicamos al dataset original, para asegurar la coherencia del análisis."
      ],
      "metadata": {
        "id": "PjQ6rSljnWFy"
      }
    },
    {
      "cell_type": "code",
      "source": [
        "# 📦 Cargamos el modelo y vectorizador guardados\n",
        "logreg_model = joblib.load(\"modelo_sentimientos.pkl\")\n",
        "vectorizador_cargado = joblib.load(\"vectorizador_tfidf.pkl\")\n",
        "\n",
        "# 🧽 Definimos una función de preprocesamiento para nuevas frases\n",
        "def preprocesar_frase(frase):\n",
        "    frase = frase.lower()\n",
        "    frase = re.sub(r'\\b\\d+\\b', lambda x: num2words(x.group()), frase)\n",
        "    frase = re.sub(r'[^a-zA-Z\\s]', '', frase)\n",
        "    tokens = word_tokenize(frase)\n",
        "    tokens = [t for t in tokens if t not in stop_words]\n",
        "    return ' '.join(tokens)\n",
        "\n",
        "# ✍️ Algunas frases nuevas para probar\n",
        "frases = [\n",
        "    \"This book was absolutely amazing, I couldn't stop reading!\",\n",
        "    \"I hated the story, it was boring and predictable.\",\n",
        "    \"It was okay, not good, not bad, just average.\",\n",
        "    \"Terrible! The worst book I've ever read.\",\n",
        "    \"Loved it. I laughed, I cried, it was beautiful.\"\n",
        "]\n",
        "\n",
        "# Preprocesamos las frases\n",
        "frases_limpias = [preprocesar_frase(f) for f in frases]\n",
        "\n",
        "# Vectorizamos con el TF-IDF cargado\n",
        "X_nuevas = vectorizador_cargado.transform(frases_limpias)\n",
        "\n",
        "# 🔮 Hacemos las predicciones\n",
        "predicciones = logreg_model.predict(X_nuevas)\n",
        "\n",
        "# 🖨️ Mostramos resultados\n",
        "for frase, pred in zip(frases, predicciones):\n",
        "    sentimiento = \"Positivo\" if pred == 1 else \"Negativo\"\n",
        "    print(f\"📝 Frase: {frase}\\n🔍 Sentimiento predicho: {sentimiento}\\n{'-'*60}\")\n"
      ],
      "metadata": {
        "colab": {
          "base_uri": "https://localhost:8080/"
        },
        "id": "Mv5bJ8QZnVqz",
        "outputId": "65869c73-5b54-4d43-8f02-04ece541e330"
      },
      "execution_count": 13,
      "outputs": [
        {
          "output_type": "stream",
          "name": "stdout",
          "text": [
            "📝 Frase: This book was absolutely amazing, I couldn't stop reading!\n",
            "🔍 Sentimiento predicho: Positivo\n",
            "------------------------------------------------------------\n",
            "📝 Frase: I hated the story, it was boring and predictable.\n",
            "🔍 Sentimiento predicho: Negativo\n",
            "------------------------------------------------------------\n",
            "📝 Frase: It was okay, not good, not bad, just average.\n",
            "🔍 Sentimiento predicho: Negativo\n",
            "------------------------------------------------------------\n",
            "📝 Frase: Terrible! The worst book I've ever read.\n",
            "🔍 Sentimiento predicho: Negativo\n",
            "------------------------------------------------------------\n",
            "📝 Frase: Loved it. I laughed, I cried, it was beautiful.\n",
            "🔍 Sentimiento predicho: Positivo\n",
            "------------------------------------------------------------\n"
          ]
        }
      ]
    },
    {
      "cell_type": "code",
      "source": [
        "from sklearn.naive_bayes import MultinomialNB\n",
        "from sklearn.svm import SVC\n",
        "from sklearn.ensemble import RandomForestClassifier\n",
        "from sklearn.metrics import classification_report, accuracy_score\n",
        "\n",
        "# 🧠 Modelo 1: Multinomial Naive Bayes\n",
        "nb_model = MultinomialNB()\n",
        "nb_model.fit(X_train, y_train)\n",
        "y_pred_nb = nb_model.predict(X_test)\n",
        "\n",
        "print(\"🔶 Multinomial Naive Bayes\")\n",
        "print(\"Accuracy:\", accuracy_score(y_test, y_pred_nb))\n",
        "print(classification_report(y_test, y_pred_nb))\n",
        "\n",
        "# 🧠 Modelo 2: Support Vector Machine\n",
        "svm_model = SVC(kernel='linear')\n",
        "svm_model.fit(X_train, y_train)\n",
        "y_pred_svm = svm_model.predict(X_test)\n",
        "\n",
        "print(\"🔷 Support Vector Machine (SVC)\")\n",
        "print(\"Accuracy:\", accuracy_score(y_test, y_pred_svm))\n",
        "print(classification_report(y_test, y_pred_svm))\n",
        "\n",
        "# 🧠 Modelo 3: Random Forest\n",
        "rf_model = RandomForestClassifier(n_estimators=100, random_state=42)\n",
        "rf_model.fit(X_train, y_train)\n",
        "y_pred_rf = rf_model.predict(X_test)\n",
        "\n",
        "print(\"🌲 Random Forest Classifier\")\n",
        "print(\"Accuracy:\", accuracy_score(y_test, y_pred_rf))\n",
        "print(classification_report(y_test, y_pred_rf))\n"
      ],
      "metadata": {
        "colab": {
          "base_uri": "https://localhost:8080/"
        },
        "id": "rarYKMRjAH3g",
        "outputId": "3150c4ab-77a0-4e47-e7d5-8c9f05ff2b35"
      },
      "execution_count": 9,
      "outputs": [
        {
          "output_type": "stream",
          "name": "stdout",
          "text": [
            "🔶 Multinomial Naive Bayes\n",
            "Accuracy: 0.9216666666666666\n",
            "              precision    recall  f1-score   support\n",
            "\n",
            "           0       0.92      0.91      0.92       284\n",
            "           1       0.92      0.93      0.93       316\n",
            "\n",
            "    accuracy                           0.92       600\n",
            "   macro avg       0.92      0.92      0.92       600\n",
            "weighted avg       0.92      0.92      0.92       600\n",
            "\n",
            "🔷 Support Vector Machine (SVC)\n",
            "Accuracy: 0.9266666666666666\n",
            "              precision    recall  f1-score   support\n",
            "\n",
            "           0       0.92      0.92      0.92       284\n",
            "           1       0.93      0.93      0.93       316\n",
            "\n",
            "    accuracy                           0.93       600\n",
            "   macro avg       0.93      0.93      0.93       600\n",
            "weighted avg       0.93      0.93      0.93       600\n",
            "\n",
            "🌲 Random Forest Classifier\n",
            "Accuracy: 0.9083333333333333\n",
            "              precision    recall  f1-score   support\n",
            "\n",
            "           0       0.90      0.90      0.90       284\n",
            "           1       0.91      0.91      0.91       316\n",
            "\n",
            "    accuracy                           0.91       600\n",
            "   macro avg       0.91      0.91      0.91       600\n",
            "weighted avg       0.91      0.91      0.91       600\n",
            "\n"
          ]
        }
      ]
    },
    {
      "cell_type": "markdown",
      "source": [
        "📌 Análisis de palabras más influyentes según el modelo\n",
        "En este bloque identificamos las palabras que más influyen en las predicciones de cada modelo. Usamos el vocabulario del TfidfVectorizer y los coeficientes del modelo para detectar:\n",
        "\n",
        "🔴 Palabras que indican una reseña negativa\n",
        "\n",
        "🟢 Palabras que indican una reseña positiva\n",
        "\n",
        "🌳 En el caso del Random Forest, las palabras con mayor importancia general\n",
        "\n",
        "Esto nos permite interpretar mejor el comportamiento del modelo, comprender cómo aprende, y verificar si realmente está captando las señales lingüísticas relevantes en el texto."
      ],
      "metadata": {
        "id": "az8yPLZMJJOq"
      }
    },
    {
      "cell_type": "code",
      "source": [
        "# ✅ Extraemos el vocabulario del vectorizador\n",
        "feature_names = vectorizer.get_feature_names_out()\n",
        "\n",
        "def mostrar_palabras_influyentes(modelo, nombre_modelo, top_n=15):\n",
        "    print(f\"\\n🔍 Palabras más influyentes según {nombre_modelo}:\\n\")\n",
        "\n",
        "    if nombre_modelo == 'Multinomial Naive Bayes':\n",
        "        # Accedemos a los log-probabilidades por clase\n",
        "        class_0 = modelo.feature_log_prob_[0]\n",
        "        class_1 = modelo.feature_log_prob_[1]\n",
        "\n",
        "        top_neg = class_0.argsort()[-top_n:][::-1]\n",
        "        top_pos = class_1.argsort()[-top_n:][::-1]\n",
        "\n",
        "        print(\"🔴 Top negativas:\")\n",
        "        for i in top_neg:\n",
        "            print(f\"{feature_names[i]} -> {class_0[i]:.4f}\")\n",
        "\n",
        "        print(\"\\n🟢 Top positivas:\")\n",
        "        for i in top_pos:\n",
        "            print(f\"{feature_names[i]} -> {class_1[i]:.4f}\")\n",
        "\n",
        "    elif nombre_modelo == 'SVM':\n",
        "        coefs = modelo.coef_.toarray()[0]\n",
        "\n",
        "        top_pos = coefs.argsort()[-top_n:][::-1]\n",
        "        top_neg = coefs.argsort()[:top_n]\n",
        "\n",
        "        print(\"🔴 Top negativas:\")\n",
        "        for i in top_neg:\n",
        "            print(f\"{feature_names[i]} -> {coefs[i]:.4f}\")\n",
        "\n",
        "        print(\"\\n🟢 Top positivas:\")\n",
        "        for i in top_pos:\n",
        "            print(f\"{feature_names[i]} -> {coefs[i]:.4f}\")\n",
        "\n",
        "    elif nombre_modelo == 'Random Forest':\n",
        "        importances = modelo.feature_importances_\n",
        "        indices = importances.argsort()[-top_n:][::-1]\n",
        "\n",
        "        print(\"🌳 Palabras más importantes (ambas clases):\")\n",
        "        for i in indices:\n",
        "            print(f\"{feature_names[i]} -> {importances[i]:.4f}\")\n",
        "\n",
        "    elif nombre_modelo == 'Logistic Regression':\n",
        "        coefs = modelo.coef_[0]  # Coeficientes del modelo para la clase 1\n",
        "\n",
        "        top_pos = coefs.argsort()[-top_n:][::-1]  # Palabras más pro-clase positiva\n",
        "        top_neg = coefs.argsort()[:top_n]         # Palabras más pro-clase negativa\n",
        "\n",
        "        print(f\"\\n🔷 Palabras más positivas para {nombre_modelo}:\")\n",
        "        for i in top_pos:\n",
        "            print(f\"{feature_names[i]} -> {coefs[i]:.4f}\")\n",
        "\n",
        "        print(f\"\\n🔴 Palabras más negativas para {nombre_modelo}:\")\n",
        "        for i in top_neg:\n",
        "            print(f\"{feature_names[i]} -> {coefs[i]:.4f}\")\n",
        "\n",
        "# 🧪 Llamamos a la función para cada modelo entrenado\n",
        "mostrar_palabras_influyentes(nb_model, 'Multinomial Naive Bayes')\n",
        "mostrar_palabras_influyentes(svm_model, 'SVC')\n",
        "mostrar_palabras_influyentes(rf_model, 'Random Forest')\n",
        "mostrar_palabras_influyentes(logreg_model, 'Logistic Regression')\n",
        "\n"
      ],
      "metadata": {
        "colab": {
          "base_uri": "https://localhost:8080/"
        },
        "id": "P4KM-GCyIf7U",
        "outputId": "995ad14c-63c7-42bf-ff10-9ae342eaf712"
      },
      "execution_count": 14,
      "outputs": [
        {
          "output_type": "stream",
          "name": "stdout",
          "text": [
            "\n",
            "🔍 Palabras más influyentes según Multinomial Naive Bayes:\n",
            "\n",
            "🔴 Top negativas:\n",
            "book -> -4.8908\n",
            "read -> -5.5309\n",
            "books -> -5.6126\n",
            "like -> -5.6344\n",
            "characters -> -5.6400\n",
            "story -> -5.6701\n",
            "really -> -5.9149\n",
            "series -> -5.9162\n",
            "time -> -5.9536\n",
            "reading -> -5.9686\n",
            "author -> -5.9915\n",
            "dont -> -6.0114\n",
            "good -> -6.0149\n",
            "pages -> -6.1191\n",
            "plot -> -6.1413\n",
            "\n",
            "🟢 Top positivas:\n",
            "book -> -4.7586\n",
            "circus -> -5.0041\n",
            "read -> -5.0575\n",
            "story -> -5.2406\n",
            "life -> -5.4770\n",
            "great -> -5.5615\n",
            "jacob -> -5.6210\n",
            "love -> -5.6492\n",
            "movie -> -5.6681\n",
            "loved -> -5.7329\n",
            "reading -> -5.8780\n",
            "good -> -5.9203\n",
            "time -> -5.9295\n",
            "characters -> -5.9372\n",
            "enjoyed -> -5.9417\n",
            "\n",
            "🔍 Palabras más influyentes según SVC:\n",
            "\n",
            "\n",
            "🔍 Palabras más influyentes según Random Forest:\n",
            "\n",
            "🌳 Palabras más importantes (ambas clases):\n",
            "circus -> 0.0408\n",
            "great -> 0.0162\n",
            "movie -> 0.0130\n",
            "series -> 0.0126\n",
            "read -> 0.0124\n",
            "loved -> 0.0120\n",
            "life -> 0.0108\n",
            "jacob -> 0.0104\n",
            "wonderful -> 0.0096\n",
            "love -> 0.0094\n",
            "pages -> 0.0094\n",
            "elephants -> 0.0093\n",
            "boring -> 0.0091\n",
            "enjoyed -> 0.0090\n",
            "books -> 0.0085\n",
            "\n",
            "🔍 Palabras más influyentes según Logistic Regression:\n",
            "\n",
            "\n",
            "🔷 Palabras más positivas para Logistic Regression:\n",
            "circus -> 6.3619\n",
            "loved -> 3.9494\n",
            "great -> 3.8020\n",
            "wonderful -> 3.3985\n",
            "movie -> 3.0167\n",
            "read -> 2.9332\n",
            "hemingway -> 2.8104\n",
            "jacob -> 2.7957\n",
            "elephants -> 2.6240\n",
            "enjoyed -> 2.5227\n",
            "gruen -> 2.4909\n",
            "life -> 2.4324\n",
            "love -> 2.2744\n",
            "enjoyed book -> 2.2309\n",
            "loved book -> 2.1127\n",
            "\n",
            "🔴 Palabras más negativas para Logistic Regression:\n",
            "series -> -3.6653\n",
            "boring -> -3.4289\n",
            "pages -> -2.8012\n",
            "bad -> -2.6217\n",
            "dont -> -2.1672\n",
            "plot -> -2.1482\n",
            "koontz -> -2.0503\n",
            "writing -> -1.9944\n",
            "books -> -1.8797\n",
            "money -> -1.8745\n",
            "waste -> -1.8695\n",
            "finish -> -1.8614\n",
            "tried -> -1.7596\n",
            "unfortunately -> -1.6823\n",
            "martin -> -1.6514\n"
          ]
        }
      ]
    },
    {
      "cell_type": "markdown",
      "source": [
        "📊 Análisis visual de las matrices de confusión\n",
        "A continuación, se presentan las matrices de confusión para cada uno de los modelos entrenados (Naive Bayes, SVM, Random Forest y Regresión Logística). Estas matrices nos permiten evaluar el rendimiento del modelo en el conjunto de test, observando cuántas predicciones fueron correctas (verdaderos positivos y verdaderos negativos) y cuántas fueron incorrectas (falsos positivos y falsos negativos).\n",
        "\n",
        "Esta visualización es fundamental para detectar posibles sesgos en las predicciones, desequilibrio entre clases, y entender de manera más clara cómo se comporta cada algoritmo frente a nuevas reseñas no vistas durante el entrenamiento."
      ],
      "metadata": {
        "id": "qMBEd_Y1WOxE"
      }
    },
    {
      "cell_type": "code",
      "source": [
        "from sklearn.metrics import ConfusionMatrixDisplay\n",
        "\n",
        "# Creamos un diccionario con los modelos\n",
        "modelos = {\n",
        "    'Naive Bayes': nb_model,\n",
        "    'SVM': svm_model,\n",
        "    'Random Forest': rf_model,\n",
        "    'Logistic Regression': logreg_model\n",
        "}\n",
        "\n",
        "# Establecemos el tamaño de la figura\n",
        "fig, axs = plt.subplots(2, 2, figsize=(12, 10))\n",
        "axs = axs.flatten()\n",
        "\n",
        "# Generamos cada matriz de confusión\n",
        "for i, (nombre, modelo) in enumerate(modelos.items()):\n",
        "    ConfusionMatrixDisplay.from_estimator(\n",
        "        modelo, X_test, y_test,\n",
        "        ax=axs[i],\n",
        "        display_labels=[\"Negativa\", \"Positiva\"],\n",
        "        cmap=\"Blues\",\n",
        "        values_format=\"d\"\n",
        "    )\n",
        "    axs[i].set_title(f\"Matriz de Confusión - {nombre}\")\n",
        "\n",
        "plt.tight_layout()\n",
        "plt.show()\n"
      ],
      "metadata": {
        "colab": {
          "base_uri": "https://localhost:8080/",
          "height": 988
        },
        "id": "uo25RZTWUfBh",
        "outputId": "be343b0b-71e7-4982-a4f8-462b513ae8f9"
      },
      "execution_count": 18,
      "outputs": [
        {
          "output_type": "display_data",
          "data": {
            "text/plain": [
              "<Figure size 1200x1000 with 8 Axes>"
            ],
            "image/png": "[encoded data removed]"
          },
          "metadata": {}
        }
      ]
    },
    {
      "cell_type": "markdown",
      "source": [
        "Ahora que tenemos un modelo entrenado y evaluado, vamos a guardar tanto el modelo como el vectorizador TF-IDF. Esto nos permitirá reutilizarlos fácilmente más adelante, sin tener que volver a entrenarlos. Usaremos joblib, una herramienta de serialización muy eficiente para modelos de machine learning en Python.\n",
        "\n"
      ],
      "metadata": {
        "id": "Lg1sBZLInDNc"
      }
    },
    {
      "cell_type": "code",
      "source": [
        "import joblib\n",
        "\n",
        "# Guardamos el modelo entrenado\n",
        "joblib.dump(nb_model, 'modelo_sentimiento_nb.pkl')\n",
        "\n",
        "# También guardamos el vectorizador para transformar nuevos textos\n",
        "joblib.dump(vectorizer, 'vectorizador_tfidf.pkl')\n",
        "\n",
        "print(\"✅ Modelo y vectorizador guardados correctamente.\")\n"
      ],
      "metadata": {
        "colab": {
          "base_uri": "https://localhost:8080/"
        },
        "id": "BwN2zdQZnEPj",
        "outputId": "d9ea77ee-ed0c-49a1-f3c0-ca1d6bac59cb"
      },
      "execution_count": 19,
      "outputs": [
        {
          "output_type": "stream",
          "name": "stdout",
          "text": [
            "✅ Modelo y vectorizador guardados correctamente.\n"
          ]
        }
      ]
    },
    {
      "cell_type": "markdown",
      "source": [
        "Usamos el modelo de forma manual para corroborar que funciona a la perfeccion"
      ],
      "metadata": {
        "id": "YHBQjLsqb0Hr"
      }
    },
    {
      "cell_type": "code",
      "source": [
        "# Función para predecir el sentimiento de una nueva reseña\n",
        "def predecir_sentimiento(texto):\n",
        "    texto_limpio = limpiar_texto(texto)\n",
        "    texto_vectorizado = vectorizer.transform([texto_limpio])\n",
        "    prediccion = nb_model.predict(texto_vectorizado)[0]\n",
        "    return \"Positiva\" if prediccion == 1 else \"Negativa\"\n",
        "\n",
        "# Ejemplo de uso\n",
        "nueva_reseña = \"This book was absolutely wonderfull!.\"\n",
        "print(f\"📝 Reseña: {nueva_reseña}\")\n",
        "print(f\"🔍 Sentimiento predicho: {predecir_sentimiento(nueva_reseña)}\")\n"
      ],
      "metadata": {
        "colab": {
          "base_uri": "https://localhost:8080/"
        },
        "id": "34eiFqr9by5T",
        "outputId": "0f63b204-4f4a-4c95-f108-a87e76cfa042"
      },
      "execution_count": 31,
      "outputs": [
        {
          "output_type": "stream",
          "name": "stdout",
          "text": [
            "📝 Reseña: This book was absolutely wonderfull!.\n",
            "🔍 Sentimiento predicho: Positiva\n"
          ]
        }
      ]
    },
    {
      "cell_type": "markdown",
      "source": [
        "\n",
        "📊 Comparativo de Modelos Entrenados\n",
        "Modelo\tAccuracy en Validación\tAccuracy en Test\tComentarios\n",
        "Multinomial Naive Bayes\t0.935\t0.933\tLigero sobreajuste, rápido y efectivo con texto categórico.\n",
        "Support Vector Machine (SVC)\t0.933\t0.933\tExcelente rendimiento general, muy estable.\n",
        "Random Forest Classifier\t0.901\t0.890\tBuen desempeño, pero menor precisión y mayor costo computacional.\n",
        "Regresión Logística\t0.930\t0.928\tMuy buen equilibrio entre rendimiento y simplicidad.\n",
        "\n",
        "🧠 Conclusiones\n",
        "Durante este proyecto se entrenaron y evaluaron 4 modelos de clasificación de texto para análisis de sentimientos sobre reseñas de productos de Amazon. Se aplicó una limpieza exhaustiva de texto (minúsculas, lematización, stopwords, números convertidos a palabras) y se vectorizó el corpus usando TF-IDF con unigramas y bigramas.\n",
        "\n",
        "Tras comparar los resultados de validación y test, se concluye que:\n",
        "\n",
        "🔹 SVM y Naive Bayes ofrecen los mejores resultados, con alta precisión y estabilidad.\n",
        "\n",
        "🔹 Naive Bayes fue el modelo más ligero y rápido de entrenar, ideal para escenarios de texto simple o tiempo limitado.\n",
        "\n",
        "🔹 SVM es el más estable y consistente entre validación y test, ideal cuando se busca precisión y generalización.\n",
        "\n",
        "🔹 Random Forest mostró cierto sobreajuste y menor precisión, lo que lo descarta para este problema.\n",
        "\n",
        "🔹 Regresión Logística también tuvo un excelente desempeño y puede ser una opción sólida cuando se busca interpretar coeficientes.\n",
        "\n",
        "📌 Modelo recomendado:\n",
        "Elegimos Support Vector Machine (SVM) como el modelo óptimo para este problema por su excelente rendimiento, estabilidad entre conjuntos de datos y robustez ante el ruido textual."
      ],
      "metadata": {
        "id": "6e2OA_J6TwTb"
      }
    }
  ]
}
